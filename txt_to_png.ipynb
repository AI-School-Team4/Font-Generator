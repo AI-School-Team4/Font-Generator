{
 "cells": [
  {
   "cell_type": "code",
   "execution_count": 4,
   "metadata": {
    "ExecuteTime": {
     "end_time": "2019-07-11T05:37:34.933281Z",
     "start_time": "2019-07-11T05:37:34.881300Z"
    }
   },
   "outputs": [],
   "source": [
    "import os\n",
    "from PIL import Image, ImageDraw, ImageFont\n",
    "\n",
    "# make sure you have the fonts locally in a fonts/ directory\n",
    "#===========================================================\n",
    "# directory for Windows :D\n",
    "# font_dir = 'C:/WINDOWS/Fonts/HMFMPYUN.ttf' # .ttf file\n",
    "font_dir = 'C:/WINDOWS/Fonts/BATANG.ttc' # .ttc file\n",
    "font_name = '바탕' # font_name으로 해당 폰트의 이미지 파일 디렉토리 생성\n",
    "#===========================================================\n",
    "W, H = (200, 200) # image size (width, height)\n",
    "background = (255,255,255) # white / dataset background\n",
    "background2 = (0, 164, 201) # light blue / sample background\n",
    "fontsize = 100\n",
    "create_sample = True\n",
    "#===========================================================\n",
    "if create_sample:\n",
    "    for idx in range(44032,44033): # sample data ('가')\n",
    "        txt = chr(idx) # text to render\n",
    "        font = ImageFont.truetype(font_dir, fontsize)\n",
    "        image = Image.new('RGBA', (W, H), background2)\n",
    "        draw = ImageDraw.Draw(image)\n",
    "    # w, h = draw.textsize(txt) # not that accurate in getting font size\n",
    "        w, h = font.getsize(txt)\n",
    "        draw.text(((W-w)/2,(H-h)/2), txt, fill='white', font=font)\n",
    "    # draw.text((10, 0), txt, (0,0,0), font=font)\n",
    "    # img_resized = image.resize((188,45), Image.ANTIALIAS)\n",
    "        save_location = os.getcwd() + '/{}'.format(font_name)\n",
    "    # print(save_location)\n",
    "    # img_resized.save(save_location + '/sample.jpg')\n",
    "        image.save(save_location + '/sample.png')\n",
    "#===========================================================\n",
    "for idx in range(44032, 55204): # all data ('가'부터 '힣'까지)\n",
    "    txt = chr(idx)\n",
    "    saved_file_name = txt\n",
    "    font = ImageFont.truetype(font_dir, fontsize)\n",
    "    image = Image.new('RGBA', (W, H), background)\n",
    "    draw = ImageDraw.Draw(image)\n",
    "# w, h = draw.textsize(txt) # not that accurate in getting font size\n",
    "    w, h = font.getsize(txt)\n",
    "    draw.text(((W-w)/2,(H-h)/2), txt, fill='black', font=font)\n",
    "# draw.text((10, 0), txt, (0,0,0), font=font)\n",
    "# img_resized = image.resize((188,45), Image.ANTIALIAS)\n",
    "    save_location = os.getcwd() + '/{}'.format(font_name)\n",
    "# print(save_location)\n",
    "# img_resized.save(save_location + '/sample.jpg')\n",
    "    image.save(save_location + '/{}.png'.format(saved_file_name))"
   ]
  },
  {
   "cell_type": "code",
   "execution_count": 12,
   "metadata": {
    "ExecuteTime": {
     "end_time": "2019-07-11T10:21:16.056672Z",
     "start_time": "2019-07-11T10:21:16.040682Z"
    }
   },
   "outputs": [
    {
     "data": {
      "text/plain": [
       "(12623, 12643, 12642)"
      ]
     },
     "execution_count": 12,
     "metadata": {},
     "output_type": "execute_result"
    }
   ],
   "source": [
    "ord('가'), ord('힣')\n",
    "ord('ㄱ'), ord('ㅎ')\n",
    "ord('ㅏ'), ord('ㅣ'), ord('ㅢ')"
   ]
  }
 ],
 "metadata": {
  "kernelspec": {
   "display_name": "Python 3",
   "language": "python",
   "name": "python3"
  },
  "language_info": {
   "codemirror_mode": {
    "name": "ipython",
    "version": 3
   },
   "file_extension": ".py",
   "mimetype": "text/x-python",
   "name": "python",
   "nbconvert_exporter": "python",
   "pygments_lexer": "ipython3",
   "version": "3.6.8"
  },
  "varInspector": {
   "cols": {
    "lenName": 16,
    "lenType": 16,
    "lenVar": 40
   },
   "kernels_config": {
    "python": {
     "delete_cmd_postfix": "",
     "delete_cmd_prefix": "del ",
     "library": "var_list.py",
     "varRefreshCmd": "print(var_dic_list())"
    },
    "r": {
     "delete_cmd_postfix": ") ",
     "delete_cmd_prefix": "rm(",
     "library": "var_list.r",
     "varRefreshCmd": "cat(var_dic_list()) "
    }
   },
   "types_to_exclude": [
    "module",
    "function",
    "builtin_function_or_method",
    "instance",
    "_Feature"
   ],
   "window_display": false
  }
 },
 "nbformat": 4,
 "nbformat_minor": 2
}
